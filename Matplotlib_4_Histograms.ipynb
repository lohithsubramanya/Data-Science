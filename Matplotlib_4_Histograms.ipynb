{
 "cells": [
  {
   "cell_type": "code",
   "execution_count": 1,
   "metadata": {
    "collapsed": true
   },
   "outputs": [],
   "source": [
    "%matplotlib inline\n",
    "import matplotlib.pyplot as plt\n",
    "import numpy as np"
   ]
  },
  {
   "cell_type": "code",
   "execution_count": 2,
   "metadata": {
    "collapsed": true
   },
   "outputs": [],
   "source": [
    "data = np.random.randn(1000)   ## randn for normallly distributted curve"
   ]
  },
  {
   "cell_type": "code",
   "execution_count": 3,
   "metadata": {
    "collapsed": false
   },
   "outputs": [
    {
     "data": {
      "text/plain": [
       "(array([  19.,   54.,  162.,  232.,  250.,  178.,   74.,   23.,    6.,    2.]),\n",
       " array([-2.73871798, -2.0784787 , -1.41823942, -0.75800014, -0.09776086,\n",
       "         0.56247842,  1.2227177 ,  1.88295698,  2.54319626,  3.20343554,\n",
       "         3.86367482]),\n",
       " <a list of 10 Patch objects>)"
      ]
     },
     "execution_count": 3,
     "metadata": {},
     "output_type": "execute_result"
    },
    {
     "data": {
      "image/png": "[encoded data removed]",
      "text/plain": [
       "<matplotlib.figure.Figure at 0xcefe9811d0>"
      ]
     },
     "metadata": {},
     "output_type": "display_data"
    }
   ],
   "source": [
    "plt.hist(data)"
   ]
  },
  {
   "cell_type": "code",
   "execution_count": 5,
   "metadata": {
    "collapsed": false
   },
   "outputs": [
    {
     "data": {
      "text/plain": [
       "(array([  3.,   7.,   9.,  14.,  17.,  23.,  39.,  63.,  60.,  61.,  86.,\n",
       "         85.,  96.,  79.,  75.,  63.,  65.,  50.,  36.,  19.,  19.,  11.,\n",
       "          6.,   6.,   3.,   1.,   2.,   1.,   0.,   1.]),\n",
       " array([-2.73871798, -2.51863822, -2.29855846, -2.0784787 , -1.85839894,\n",
       "        -1.63831918, -1.41823942, -1.19815966, -0.9780799 , -0.75800014,\n",
       "        -0.53792038, -0.31784062, -0.09776086,  0.1223189 ,  0.34239866,\n",
       "         0.56247842,  0.78255818,  1.00263794,  1.2227177 ,  1.44279746,\n",
       "         1.66287722,  1.88295698,  2.10303674,  2.3231165 ,  2.54319626,\n",
       "         2.76327602,  2.98335578,  3.20343554,  3.4235153 ,  3.64359506,\n",
       "         3.86367482]),\n",
       " <a list of 30 Patch objects>)"
      ]
     },
     "execution_count": 5,
     "metadata": {},
     "output_type": "execute_result"
    },
    {
     "data": {
      "image/png": "[encoded data removed]",
      "text/plain": [
       "<matplotlib.figure.Figure at 0xce80e8d6a0>"
      ]
     },
     "metadata": {},
     "output_type": "display_data"
    }
   ],
   "source": [
    "plt.hist(data, bins=30)\n",
    "\n",
    "## bins to expand the graph horizontally to get a clearer representation"
   ]
  },
  {
   "cell_type": "code",
   "execution_count": 6,
   "metadata": {
    "collapsed": false
   },
   "outputs": [
    {
     "data": {
      "text/plain": [
       "(array([  3.,   7.,   9.,  14.,  17.,  23.,  39.,  63.,  60.,  61.,  86.,\n",
       "         85.,  96.,  79.,  75.,  63.,  65.,  50.,  36.,  19.,  19.,  11.,\n",
       "          6.,   6.,   3.,   1.,   2.,   1.,   0.,   1.]),\n",
       " array([-2.73871798, -2.51863822, -2.29855846, -2.0784787 , -1.85839894,\n",
       "        -1.63831918, -1.41823942, -1.19815966, -0.9780799 , -0.75800014,\n",
       "        -0.53792038, -0.31784062, -0.09776086,  0.1223189 ,  0.34239866,\n",
       "         0.56247842,  0.78255818,  1.00263794,  1.2227177 ,  1.44279746,\n",
       "         1.66287722,  1.88295698,  2.10303674,  2.3231165 ,  2.54319626,\n",
       "         2.76327602,  2.98335578,  3.20343554,  3.4235153 ,  3.64359506,\n",
       "         3.86367482]),\n",
       " <a list of 30 Patch objects>)"
      ]
     },
     "execution_count": 6,
     "metadata": {},
     "output_type": "execute_result"
    },
    {
     "data": {
      "image/png": "[encoded data removed]",
      "text/plain": [
       "<matplotlib.figure.Figure at 0xce80f70a90>"
      ]
     },
     "metadata": {},
     "output_type": "display_data"
    }
   ],
   "source": [
    "plt.hist(data, bins=30, alpha=0.3,color='red')"
   ]
  },
  {
   "cell_type": "code",
   "execution_count": 7,
   "metadata": {
    "collapsed": false
   },
   "outputs": [
    {
     "data": {
      "text/plain": [
       "(array([  3.,   7.,   9.,  14.,  17.,  23.,  39.,  63.,  60.,  61.,  86.,\n",
       "         85.,  96.,  79.,  75.,  63.,  65.,  50.,  36.,  19.,  19.,  11.,\n",
       "          6.,   6.,   3.,   1.,   2.,   1.,   0.,   1.]),\n",
       " array([-2.73871798, -2.51863822, -2.29855846, -2.0784787 , -1.85839894,\n",
       "        -1.63831918, -1.41823942, -1.19815966, -0.9780799 , -0.75800014,\n",
       "        -0.53792038, -0.31784062, -0.09776086,  0.1223189 ,  0.34239866,\n",
       "         0.56247842,  0.78255818,  1.00263794,  1.2227177 ,  1.44279746,\n",
       "         1.66287722,  1.88295698,  2.10303674,  2.3231165 ,  2.54319626,\n",
       "         2.76327602,  2.98335578,  3.20343554,  3.4235153 ,  3.64359506,\n",
       "         3.86367482]),\n",
       " <a list of 30 Patch objects>)"
      ]
     },
     "execution_count": 7,
     "metadata": {},
     "output_type": "execute_result"
    },
    {
     "data": {
      "image/png": "[encoded data removed]",
      "text/plain": [
       "<matplotlib.figure.Figure at 0xce8108c6d8>"
      ]
     },
     "metadata": {},
     "output_type": "display_data"
    }
   ],
   "source": [
    "plt.hist(data, bins=30, alpha=0.9,color='yellow')"
   ]
  },
  {
   "cell_type": "code",
   "execution_count": 9,
   "metadata": {
    "collapsed": false
   },
   "outputs": [
    {
     "data": {
      "text/plain": [
       "(array([  1.,   0.,   2.,   0.,   2.,   4.,   7.,   3.,  15.,  18.,  25.,\n",
       "         23.,  33.,  45.,  44.,  57.,  58.,  65.,  81.,  70.,  61.,  60.,\n",
       "         60.,  36.,  46.,  55.,  31.,  34.,  23.,  13.,   8.,  10.,   4.,\n",
       "          3.,   0.,   0.,   1.,   0.,   1.,   1.]),\n",
       " array([ -3.44849876,  -3.11096455,  -2.77343035,  -2.43589615,\n",
       "         -2.09836195,  -1.76082774,  -1.42329354,  -1.08575934,\n",
       "         -0.74822514,  -0.41069094,  -0.07315673,   0.26437747,\n",
       "          0.60191167,   0.93944587,   1.27698008,   1.61451428,\n",
       "          1.95204848,   2.28958268,   2.62711688,   2.96465109,\n",
       "          3.30218529,   3.63971949,   3.97725369,   4.3147879 ,\n",
       "          4.6523221 ,   4.9898563 ,   5.3273905 ,   5.6649247 ,\n",
       "          6.00245891,   6.33999311,   6.67752731,   7.01506151,\n",
       "          7.35259572,   7.69012992,   8.02766412,   8.36519832,\n",
       "          8.70273252,   9.04026673,   9.37780093,   9.71533513,  10.05286933]),\n",
       " <a list of 40 Patch objects>)"
      ]
     },
     "execution_count": 9,
     "metadata": {},
     "output_type": "execute_result"
    },
    {
     "data": {
      "image/png": "[encoded data removed]",
      "text/plain": [
       "<matplotlib.figure.Figure at 0xce81441cc0>"
      ]
     },
     "metadata": {},
     "output_type": "display_data"
    }
   ],
   "source": [
    "x1 = np.random.normal(0,0.8, 1000)  ## Range of 0 to 0.8 with 1000 data points\n",
    "x2 = np.random.normal(-2,1,1000)\n",
    "x3 = np.random.normal(3, 2, 1000)\n",
    "\n",
    "argdict = dict(alpha=0.3, bins=40)  ## Dictionary with specified parameters\n",
    "\n",
    "plt.hist(x1, **argdict)  ## Unboxing the argdict dictionary to respective curves\n",
    "plt.hist(x2, **argdict)\n",
    "plt.hist(x3, **argdict)"
   ]
  },
  {
   "cell_type": "code",
   "execution_count": 13,
   "metadata": {
    "collapsed": false
   },
   "outputs": [
    {
     "data": {
      "text/plain": [
       "(array([  1.,   0.,   2.,   0.,   2.,   4.,   7.,   3.,  15.,  18.,  25.,\n",
       "         23.,  33.,  45.,  44.,  57.,  58.,  65.,  81.,  70.,  61.,  60.,\n",
       "         60.,  36.,  46.,  55.,  31.,  34.,  23.,  13.,   8.,  10.,   4.,\n",
       "          3.,   0.,   0.,   1.,   0.,   1.,   1.]),\n",
       " array([ -3.44849876,  -3.11096455,  -2.77343035,  -2.43589615,\n",
       "         -2.09836195,  -1.76082774,  -1.42329354,  -1.08575934,\n",
       "         -0.74822514,  -0.41069094,  -0.07315673,   0.26437747,\n",
       "          0.60191167,   0.93944587,   1.27698008,   1.61451428,\n",
       "          1.95204848,   2.28958268,   2.62711688,   2.96465109,\n",
       "          3.30218529,   3.63971949,   3.97725369,   4.3147879 ,\n",
       "          4.6523221 ,   4.9898563 ,   5.3273905 ,   5.6649247 ,\n",
       "          6.00245891,   6.33999311,   6.67752731,   7.01506151,\n",
       "          7.35259572,   7.69012992,   8.02766412,   8.36519832,\n",
       "          8.70273252,   9.04026673,   9.37780093,   9.71533513,  10.05286933]),\n",
       " <a list of 40 Patch objects>)"
      ]
     },
     "execution_count": 13,
     "metadata": {},
     "output_type": "execute_result"
    },
    {
     "data": {
      "image/png": "[encoded data removed]",
      "text/plain": [
       "<matplotlib.figure.Figure at 0xce81f47b38>"
      ]
     },
     "metadata": {},
     "output_type": "display_data"
    }
   ],
   "source": [
    "plt.hist(x1, **argdict, color = 'maroon') \n",
    "plt.hist(x2, **argdict, color = 'yellow')\n",
    "plt.hist(x3, **argdict, color = 'orange')"
   ]
  },
  {
   "cell_type": "code",
   "execution_count": null,
   "metadata": {
    "collapsed": true
   },
   "outputs": [],
   "source": []
  }
 ],
 "metadata": {
  "kernelspec": {
   "display_name": "Python 3",
   "language": "python",
   "name": "python3"
  },
  "language_info": {
   "codemirror_mode": {
    "name": "ipython",
    "version": 3
   },
   "file_extension": ".py",
   "mimetype": "text/x-python",
   "name": "python",
   "nbconvert_exporter": "python",
   "pygments_lexer": "ipython3",
   "version": "3.6.0"
  }
 },
 "nbformat": 4,
 "nbformat_minor": 2
}
