{
 "cells": [
  {
   "cell_type": "code",
   "execution_count": 1,
   "metadata": {
    "collapsed": true
   },
   "outputs": [],
   "source": [
    "%matplotlib inline\n",
    "import numpy as np\n",
    "import matplotlib.pyplot as plt"
   ]
  },
  {
   "cell_type": "code",
   "execution_count": 2,
   "metadata": {
    "collapsed": true
   },
   "outputs": [],
   "source": [
    "x = np.arange(20)\n",
    "y = 2*x - 3*x**2 + 4*x**3"
   ]
  },
  {
   "cell_type": "code",
   "execution_count": 5,
   "metadata": {
    "collapsed": false
   },
   "outputs": [
    {
     "data": {
      "text/plain": [
       "<matplotlib.collections.PathCollection at 0x70a85203c8>"
      ]
     },
     "execution_count": 5,
     "metadata": {},
     "output_type": "execute_result"
    },
    {
     "data": {
      "image/png": "[encoded data removed]",
      "text/plain": [
       "<matplotlib.figure.Figure at 0x70a8492ba8>"
      ]
     },
     "metadata": {},
     "output_type": "display_data"
    }
   ],
   "source": [
    "plt.scatter(x,y)"
   ]
  },
  {
   "cell_type": "code",
   "execution_count": 6,
   "metadata": {
    "collapsed": false
   },
   "outputs": [
    {
     "data": {
      "image/png": "[encoded data removed]",
      "text/plain": [
       "<matplotlib.figure.Figure at 0x70a85347b8>"
      ]
     },
     "metadata": {},
     "output_type": "display_data"
    }
   ],
   "source": [
    "plt.scatter(x,y);"
   ]
  },
  {
   "cell_type": "markdown",
   "metadata": {},
   "source": [
    "# Simple Linear Regression"
   ]
  },
  {
   "cell_type": "code",
   "execution_count": 7,
   "metadata": {
    "collapsed": true
   },
   "outputs": [],
   "source": [
    "rng = np.random.RandomState(1)"
   ]
  },
  {
   "cell_type": "code",
   "execution_count": 8,
   "metadata": {
    "collapsed": true
   },
   "outputs": [],
   "source": [
    "x = 10*rng.rand(50)"
   ]
  },
  {
   "cell_type": "code",
   "execution_count": 9,
   "metadata": {
    "collapsed": true
   },
   "outputs": [],
   "source": [
    "y = 2*x -5 + rng.randn(50)"
   ]
  },
  {
   "cell_type": "code",
   "execution_count": 10,
   "metadata": {
    "collapsed": false
   },
   "outputs": [
    {
     "data": {
      "text/plain": [
       "array([  4.17022005e+00,   7.20324493e+00,   1.14374817e-03,\n",
       "         3.02332573e+00,   1.46755891e+00,   9.23385948e-01,\n",
       "         1.86260211e+00,   3.45560727e+00,   3.96767474e+00,\n",
       "         5.38816734e+00,   4.19194514e+00,   6.85219500e+00,\n",
       "         2.04452250e+00,   8.78117436e+00,   2.73875932e-01,\n",
       "         6.70467510e+00,   4.17304802e+00,   5.58689828e+00,\n",
       "         1.40386939e+00,   1.98101489e+00,   8.00744569e+00,\n",
       "         9.68261576e+00,   3.13424178e+00,   6.92322616e+00,\n",
       "         8.76389152e+00,   8.94606664e+00,   8.50442114e-01,\n",
       "         3.90547832e-01,   1.69830420e+00,   8.78142503e+00,\n",
       "         9.83468338e-01,   4.21107625e+00,   9.57889530e+00,\n",
       "         5.33165285e+00,   6.91877114e+00,   3.15515631e+00,\n",
       "         6.86500928e+00,   8.34625672e+00,   1.82882773e-01,\n",
       "         7.50144315e+00,   9.88861089e+00,   7.48165654e+00,\n",
       "         2.80443992e+00,   7.89279328e+00,   1.03226007e+00,\n",
       "         4.47893526e+00,   9.08595503e+00,   2.93614148e+00,\n",
       "         2.87775339e+00,   1.30028572e+00])"
      ]
     },
     "execution_count": 10,
     "metadata": {},
     "output_type": "execute_result"
    }
   ],
   "source": [
    "x"
   ]
  },
  {
   "cell_type": "code",
   "execution_count": 11,
   "metadata": {
    "collapsed": false
   },
   "outputs": [
    {
     "data": {
      "text/plain": [
       "array([  2.65326739,   8.56128423,  -5.66895863,   1.03398685,\n",
       "        -3.18219253,  -2.91881241,   0.3850064 ,   2.6532587 ,\n",
       "         2.74351393,   4.88870572,   2.63673199,  10.39684461,\n",
       "        -0.86014725,  11.92535308,  -4.26133265,  10.50960534,\n",
       "         3.466255  ,   6.79099968,  -1.89209091,  -1.39022006,\n",
       "         9.87237318,  14.01588879,   1.05958933,   9.4330755 ,\n",
       "        13.36676646,  13.82323535,  -3.01352845,  -3.33376317,\n",
       "        -2.35778955,  13.81571822,  -2.5201335 ,   3.12405966,\n",
       "        14.64630875,   5.58773399,   9.96917167,   2.83012944,\n",
       "        10.91559396,  10.2960171 ,  -6.07834826,   9.49842044,\n",
       "        14.93725885,  10.83948201,   0.92451479,   8.76338535,\n",
       "        -3.24168388,   4.78584517,  13.4020048 ,   1.63429415,\n",
       "         0.53317863,  -2.60018663])"
      ]
     },
     "execution_count": 11,
     "metadata": {},
     "output_type": "execute_result"
    }
   ],
   "source": [
    "y"
   ]
  },
  {
   "cell_type": "code",
   "execution_count": 12,
   "metadata": {
    "collapsed": false
   },
   "outputs": [
    {
     "data": {
      "text/plain": [
       "<matplotlib.collections.PathCollection at 0x70a863c320>"
      ]
     },
     "execution_count": 12,
     "metadata": {},
     "output_type": "execute_result"
    },
    {
     "data": {
      "image/png": "[encoded data removed]",
      "text/plain": [
       "<matplotlib.figure.Figure at 0x70a85d39e8>"
      ]
     },
     "metadata": {},
     "output_type": "display_data"
    }
   ],
   "source": [
    "plt.scatter(x,y)"
   ]
  },
  {
   "cell_type": "code",
   "execution_count": 13,
   "metadata": {
    "collapsed": true
   },
   "outputs": [],
   "source": [
    "## Creating a model \n",
    "\n",
    "from sklearn.linear_model import LinearRegression\n",
    "model = LinearRegression(fit_intercept = True)"
   ]
  },
  {
   "cell_type": "code",
   "execution_count": 16,
   "metadata": {
    "collapsed": false
   },
   "outputs": [
    {
     "data": {
      "text/plain": [
       "LinearRegression(copy_X=True, fit_intercept=True, n_jobs=1, normalize=False)"
      ]
     },
     "execution_count": 16,
     "metadata": {},
     "output_type": "execute_result"
    }
   ],
   "source": [
    "## Training the model \n",
    "\n",
    "model.fit(x[:,np.newaxis],y)"
   ]
  },
  {
   "cell_type": "code",
   "execution_count": 17,
   "metadata": {
    "collapsed": true
   },
   "outputs": [],
   "source": [
    "## y - target vector, its represented in single dimension\n",
    "## x[:,np.newaxis] - feature matrix\n",
    "\n",
    "xtest = np.linspace(0,10,20)\n",
    "ytest = model.predict(xtest[:,np.newaxis])   ## Predicting the test results"
   ]
  },
  {
   "cell_type": "code",
   "execution_count": 18,
   "metadata": {
    "collapsed": false
   },
   "outputs": [
    {
     "data": {
      "text/plain": [
       "<matplotlib.collections.PathCollection at 0x70a971c898>"
      ]
     },
     "execution_count": 18,
     "metadata": {},
     "output_type": "execute_result"
    },
    {
     "data": {
      "image/png": "[encoded data removed]",
      "text/plain": [
       "<matplotlib.figure.Figure at 0x70a947f9e8>"
      ]
     },
     "metadata": {},
     "output_type": "display_data"
    }
   ],
   "source": [
    "plt.scatter(xtest,ytest)"
   ]
  },
  {
   "cell_type": "code",
   "execution_count": 19,
   "metadata": {
    "collapsed": false
   },
   "outputs": [
    {
     "data": {
      "text/plain": [
       "array([ 2.02720881])"
      ]
     },
     "execution_count": 19,
     "metadata": {},
     "output_type": "execute_result"
    }
   ],
   "source": [
    "model.coef_   ## Co-efficient of label"
   ]
  },
  {
   "cell_type": "code",
   "execution_count": 20,
   "metadata": {
    "collapsed": false
   },
   "outputs": [
    {
     "data": {
      "text/plain": [
       "-4.9985770855532037"
      ]
     },
     "execution_count": 20,
     "metadata": {},
     "output_type": "execute_result"
    }
   ],
   "source": [
    "model.intercept_   ## Intercept of label"
   ]
  },
  {
   "cell_type": "code",
   "execution_count": 21,
   "metadata": {
    "collapsed": false
   },
   "outputs": [
    {
     "data": {
      "text/plain": [
       "<matplotlib.collections.PathCollection at 0x70a852ec88>"
      ]
     },
     "execution_count": 21,
     "metadata": {},
     "output_type": "execute_result"
    },
    {
     "data": {
      "image/png": "[encoded data removed]",
      "text/plain": [
       "<matplotlib.figure.Figure at 0x70a972c278>"
      ]
     },
     "metadata": {},
     "output_type": "display_data"
    }
   ],
   "source": [
    "rng = np.random.RandomState(1)\n",
    "x = 10 * rng.rand(50)\n",
    "y = 5*x**2 + 2 * x - 5 + rng.randn(50)  ### 2nd degree equation\n",
    "plt.scatter(x, y) "
   ]
  },
  {
   "cell_type": "code",
   "execution_count": 22,
   "metadata": {
    "collapsed": true
   },
   "outputs": [],
   "source": [
    "model = LinearRegression(fit_intercept = True) ## Choosing the model"
   ]
  },
  {
   "cell_type": "code",
   "execution_count": 23,
   "metadata": {
    "collapsed": false
   },
   "outputs": [
    {
     "data": {
      "text/plain": [
       "LinearRegression(copy_X=True, fit_intercept=True, n_jobs=1, normalize=False)"
      ]
     },
     "execution_count": 23,
     "metadata": {},
     "output_type": "execute_result"
    }
   ],
   "source": [
    "model.fit(x[:,np.newaxis],y)  ## Training the model with hyperparameters"
   ]
  },
  {
   "cell_type": "code",
   "execution_count": 25,
   "metadata": {
    "collapsed": true
   },
   "outputs": [],
   "source": [
    "ypredict = model.predict(x[:,np.newaxis]) ## Predict"
   ]
  },
  {
   "cell_type": "code",
   "execution_count": 26,
   "metadata": {
    "collapsed": false
   },
   "outputs": [
    {
     "data": {
      "text/plain": [
       "<matplotlib.collections.PathCollection at 0x70a8569e10>"
      ]
     },
     "execution_count": 26,
     "metadata": {},
     "output_type": "execute_result"
    },
    {
     "data": {
      "image/png": "[encoded data removed]",
      "text/plain": [
       "<matplotlib.figure.Figure at 0x70a9724550>"
      ]
     },
     "metadata": {},
     "output_type": "display_data"
    }
   ],
   "source": [
    "## Plotting the graph of trained and tested labels\n",
    "\n",
    "plt.scatter(x,y)\n",
    "plt.scatter(x,ypredict,color = 'green')"
   ]
  },
  {
   "cell_type": "code",
   "execution_count": 27,
   "metadata": {
    "collapsed": false
   },
   "outputs": [
    {
     "name": "stdout",
     "output_type": "stream",
     "text": [
      "[ 50.95948378]\n"
     ]
    }
   ],
   "source": [
    "print(model.coef_)   ### Notice how the cpoefficient and intercept don't match up to the equation presented at the beginning\n",
    "\n",
    "## y = 5*x**2 + 2 * x - 5 + rng.randn(50)"
   ]
  },
  {
   "cell_type": "code",
   "execution_count": 28,
   "metadata": {
    "collapsed": false
   },
   "outputs": [
    {
     "name": "stdout",
     "output_type": "stream",
     "text": [
      "-77.8696079561\n"
     ]
    }
   ],
   "source": [
    "print(model.intercept_)"
   ]
  },
  {
   "cell_type": "markdown",
   "metadata": {},
   "source": [
    "# Polynomial Function"
   ]
  },
  {
   "cell_type": "code",
   "execution_count": 29,
   "metadata": {
    "collapsed": true
   },
   "outputs": [],
   "source": [
    "from sklearn.preprocessing import PolynomialFeatures\n",
    "poly = PolynomialFeatures(2)  ## Creating the model"
   ]
  },
  {
   "cell_type": "code",
   "execution_count": 31,
   "metadata": {
    "collapsed": false
   },
   "outputs": [
    {
     "data": {
      "text/plain": [
       "array([  4.17022005e+00,   7.20324493e+00,   1.14374817e-03,\n",
       "         3.02332573e+00,   1.46755891e+00,   9.23385948e-01,\n",
       "         1.86260211e+00,   3.45560727e+00,   3.96767474e+00,\n",
       "         5.38816734e+00,   4.19194514e+00,   6.85219500e+00,\n",
       "         2.04452250e+00,   8.78117436e+00,   2.73875932e-01,\n",
       "         6.70467510e+00,   4.17304802e+00,   5.58689828e+00,\n",
       "         1.40386939e+00,   1.98101489e+00,   8.00744569e+00,\n",
       "         9.68261576e+00,   3.13424178e+00,   6.92322616e+00,\n",
       "         8.76389152e+00,   8.94606664e+00,   8.50442114e-01,\n",
       "         3.90547832e-01,   1.69830420e+00,   8.78142503e+00,\n",
       "         9.83468338e-01,   4.21107625e+00,   9.57889530e+00,\n",
       "         5.33165285e+00,   6.91877114e+00,   3.15515631e+00,\n",
       "         6.86500928e+00,   8.34625672e+00,   1.82882773e-01,\n",
       "         7.50144315e+00,   9.88861089e+00,   7.48165654e+00,\n",
       "         2.80443992e+00,   7.89279328e+00,   1.03226007e+00,\n",
       "         4.47893526e+00,   9.08595503e+00,   2.93614148e+00,\n",
       "         2.87775339e+00,   1.30028572e+00])"
      ]
     },
     "execution_count": 31,
     "metadata": {},
     "output_type": "execute_result"
    }
   ],
   "source": [
    "x"
   ]
  },
  {
   "cell_type": "code",
   "execution_count": 30,
   "metadata": {
    "collapsed": false
   },
   "outputs": [
    {
     "data": {
      "text/plain": [
       "array([[  1.00000000e+00,   4.17022005e+00,   1.73907352e+01],\n",
       "       [  1.00000000e+00,   7.20324493e+00,   5.18867376e+01],\n",
       "       [  1.00000000e+00,   1.14374817e-03,   1.30815988e-06],\n",
       "       [  1.00000000e+00,   3.02332573e+00,   9.14049845e+00],\n",
       "       [  1.00000000e+00,   1.46755891e+00,   2.15372915e+00],\n",
       "       [  1.00000000e+00,   9.23385948e-01,   8.52641608e-01],\n",
       "       [  1.00000000e+00,   1.86260211e+00,   3.46928663e+00],\n",
       "       [  1.00000000e+00,   3.45560727e+00,   1.19412216e+01],\n",
       "       [  1.00000000e+00,   3.96767474e+00,   1.57424429e+01],\n",
       "       [  1.00000000e+00,   5.38816734e+00,   2.90323473e+01],\n",
       "       [  1.00000000e+00,   4.19194514e+00,   1.75724041e+01],\n",
       "       [  1.00000000e+00,   6.85219500e+00,   4.69525764e+01],\n",
       "       [  1.00000000e+00,   2.04452250e+00,   4.18007224e+00],\n",
       "       [  1.00000000e+00,   8.78117436e+00,   7.71090232e+01],\n",
       "       [  1.00000000e+00,   2.73875932e-01,   7.50080261e-02],\n",
       "       [  1.00000000e+00,   6.70467510e+00,   4.49526682e+01],\n",
       "       [  1.00000000e+00,   4.17304802e+00,   1.74143298e+01],\n",
       "       [  1.00000000e+00,   5.58689828e+00,   3.12134324e+01],\n",
       "       [  1.00000000e+00,   1.40386939e+00,   1.97084925e+00],\n",
       "       [  1.00000000e+00,   1.98101489e+00,   3.92442000e+00],\n",
       "       [  1.00000000e+00,   8.00744569e+00,   6.41191864e+01],\n",
       "       [  1.00000000e+00,   9.68261576e+00,   9.37530479e+01],\n",
       "       [  1.00000000e+00,   3.13424178e+00,   9.82347155e+00],\n",
       "       [  1.00000000e+00,   6.92322616e+00,   4.79310604e+01],\n",
       "       [  1.00000000e+00,   8.76389152e+00,   7.68057946e+01],\n",
       "       [  1.00000000e+00,   8.94606664e+00,   8.00321082e+01],\n",
       "       [  1.00000000e+00,   8.50442114e-01,   7.23251789e-01],\n",
       "       [  1.00000000e+00,   3.90547832e-01,   1.52527609e-01],\n",
       "       [  1.00000000e+00,   1.69830420e+00,   2.88423714e+00],\n",
       "       [  1.00000000e+00,   8.78142503e+00,   7.71134256e+01],\n",
       "       [  1.00000000e+00,   9.83468338e-01,   9.67209972e-01],\n",
       "       [  1.00000000e+00,   4.21107625e+00,   1.77331632e+01],\n",
       "       [  1.00000000e+00,   9.57889530e+00,   9.17552352e+01],\n",
       "       [  1.00000000e+00,   5.33165285e+00,   2.84265221e+01],\n",
       "       [  1.00000000e+00,   6.91877114e+00,   4.78693941e+01],\n",
       "       [  1.00000000e+00,   3.15515631e+00,   9.95501134e+00],\n",
       "       [  1.00000000e+00,   6.86500928e+00,   4.71283524e+01],\n",
       "       [  1.00000000e+00,   8.34625672e+00,   6.96600012e+01],\n",
       "       [  1.00000000e+00,   1.82882773e-01,   3.34461088e-02],\n",
       "       [  1.00000000e+00,   7.50144315e+00,   5.62716493e+01],\n",
       "       [  1.00000000e+00,   9.88861089e+00,   9.77846253e+01],\n",
       "       [  1.00000000e+00,   7.48165654e+00,   5.59751846e+01],\n",
       "       [  1.00000000e+00,   2.80443992e+00,   7.86488327e+00],\n",
       "       [  1.00000000e+00,   7.89279328e+00,   6.22961858e+01],\n",
       "       [  1.00000000e+00,   1.03226007e+00,   1.06556084e+00],\n",
       "       [  1.00000000e+00,   4.47893526e+00,   2.00608611e+01],\n",
       "       [  1.00000000e+00,   9.08595503e+00,   8.25545788e+01],\n",
       "       [  1.00000000e+00,   2.93614148e+00,   8.62092681e+00],\n",
       "       [  1.00000000e+00,   2.87775339e+00,   8.28146455e+00],\n",
       "       [  1.00000000e+00,   1.30028572e+00,   1.69074296e+00]])"
      ]
     },
     "execution_count": 30,
     "metadata": {},
     "output_type": "execute_result"
    }
   ],
   "source": [
    "poly.fit_transform(x[:,None]) ## Training the model with hyperparameters\n",
    "\n",
    "## The three columns represent co-efficients of x**0 , x**1 and x**2 "
   ]
  },
  {
   "cell_type": "markdown",
   "metadata": {},
   "source": [
    "# Concept of Pipeline"
   ]
  },
  {
   "cell_type": "code",
   "execution_count": 32,
   "metadata": {
    "collapsed": true
   },
   "outputs": [],
   "source": [
    "from sklearn.pipeline import make_pipeline"
   ]
  },
  {
   "cell_type": "code",
   "execution_count": 34,
   "metadata": {
    "collapsed": false
   },
   "outputs": [],
   "source": [
    "## Pipeline creation - Tries one model after another\n",
    "## Choosing a model with 5 features(5th order equation) and having Linear Regression in pipeline once computation of polynomial finishes\n",
    "\n",
    "poly_model = make_pipeline(PolynomialFeatures(5), LinearRegression())"
   ]
  },
  {
   "cell_type": "code",
   "execution_count": 35,
   "metadata": {
    "collapsed": false
   },
   "outputs": [
    {
     "data": {
      "text/plain": [
       "Pipeline(steps=[('polynomialfeatures', PolynomialFeatures(degree=5, include_bias=True, interaction_only=False)), ('linearregression', LinearRegression(copy_X=True, fit_intercept=True, n_jobs=1, normalize=False))])"
      ]
     },
     "execution_count": 35,
     "metadata": {},
     "output_type": "execute_result"
    }
   ],
   "source": [
    "poly_model.fit(x[:,np.newaxis],y)  ## Choosing hyperparameters and training the model"
   ]
  },
  {
   "cell_type": "code",
   "execution_count": 36,
   "metadata": {
    "collapsed": true
   },
   "outputs": [],
   "source": [
    "y_polytest = poly_model.predict(xtest[:,np.newaxis])"
   ]
  },
  {
   "cell_type": "code",
   "execution_count": 37,
   "metadata": {
    "collapsed": false
   },
   "outputs": [
    {
     "data": {
      "text/plain": [
       "<matplotlib.collections.PathCollection at 0x70a98372b0>"
      ]
     },
     "execution_count": 37,
     "metadata": {},
     "output_type": "execute_result"
    },
    {
     "data": {
      "image/png": "[encoded data removed]",
      "text/plain": [
       "<matplotlib.figure.Figure at 0x70a9740e48>"
      ]
     },
     "metadata": {},
     "output_type": "display_data"
    }
   ],
   "source": [
    "plt.scatter(xtest,y_polytest)"
   ]
  },
  {
   "cell_type": "markdown",
   "metadata": {},
   "source": [
    "# Score - To analyze how good the model is working \n",
    "\n",
    "### Sets as a measure based on which we decide if we would like to deploy the algorithm or not\n",
    "\n",
    "* Value of score is between 0 and 1.\n",
    "* Higher the value, better is the prediction capability of the model"
   ]
  },
  {
   "cell_type": "code",
   "execution_count": 38,
   "metadata": {
    "collapsed": true
   },
   "outputs": [],
   "source": [
    "rng = np.random.RandomState(1)\n",
    "x = 10 * rng.rand(100)\n",
    "y = 5*x**2 + 2 * x - 5 + rng.randn(100)"
   ]
  },
  {
   "cell_type": "code",
   "execution_count": 39,
   "metadata": {
    "collapsed": false
   },
   "outputs": [
    {
     "data": {
      "text/plain": [
       "0.93885063989311979"
      ]
     },
     "execution_count": 39,
     "metadata": {},
     "output_type": "execute_result"
    }
   ],
   "source": [
    "model.score(x[:,np.newaxis],y)"
   ]
  },
  {
   "cell_type": "code",
   "execution_count": 40,
   "metadata": {
    "collapsed": false
   },
   "outputs": [
    {
     "data": {
      "text/plain": [
       "0.99996196741032184"
      ]
     },
     "execution_count": 40,
     "metadata": {},
     "output_type": "execute_result"
    }
   ],
   "source": [
    "poly_model.score(x[:,np.newaxis],y)"
   ]
  },
  {
   "cell_type": "code",
   "execution_count": null,
   "metadata": {
    "collapsed": true
   },
   "outputs": [],
   "source": []
  }
 ],
 "metadata": {
  "kernelspec": {
   "display_name": "Python 3",
   "language": "python",
   "name": "python3"
  },
  "language_info": {
   "codemirror_mode": {
    "name": "ipython",
    "version": 3
   },
   "file_extension": ".py",
   "mimetype": "text/x-python",
   "name": "python",
   "nbconvert_exporter": "python",
   "pygments_lexer": "ipython3",
   "version": "3.6.0"
  }
 },
 "nbformat": 4,
 "nbformat_minor": 2
}
